{
  "cells": [
    {
      "cell_type": "markdown",
      "metadata": {
        "id": "view-in-github",
        "colab_type": "text"
      },
      "source": [
        "<a href=\"https://colab.research.google.com/github/MateuszBylik/DeOldifyVideoColorizer/blob/main/VideoColorizerNotebook.ipynb\" target=\"_parent\"><img src=\"https://colab.research.google.com/assets/colab-badge.svg\" alt=\"Open In Colab\"/></a>"
      ]
    },
    {
      "cell_type": "markdown",
      "source": [
        "First, open anaconda prompt as administrator. Then type:\\\n",
        "*conda activate deoldify*\\\n",
        "After that type:\\\n",
        "*jupyter notebook --NotebookApp.allow_origin='https://colab.research.google.com' --port=8888 --NotebookApp.port_retries=0*\\\n",
        "Then copy web adress starting with *http://localhost:8888/?token=* and paste it into google colab."
      ],
      "metadata": {
        "id": "aDmRX1naFrUE"
      },
      "id": "aDmRX1naFrUE"
    },
    {
      "cell_type": "code",
      "execution_count": 1,
      "metadata": {
        "colab": {
          "base_uri": "https://localhost:8080/"
        },
        "id": "Cb_ZhKqL7kew",
        "outputId": "60a6a443-5aa9-4b22-85d7-2a93dfac84d3"
      },
      "outputs": [
        {
          "output_type": "stream",
          "name": "stdout",
          "text": [
            "C:\\Users\\aide\\DeOldify-master\n"
          ]
        }
      ],
      "source": [
        "cd C:\\Users\\aide\\DeOldify-master"
      ],
      "id": "Cb_ZhKqL7kew"
    },
    {
      "cell_type": "code",
      "execution_count": 2,
      "metadata": {
        "id": "0824a330-ff28-4e8a-8b79-b3212696bb94"
      },
      "outputs": [],
      "source": [
        "#NOTE:  This must be the first call in order to work properly!\n",
        "from deoldify import device\n",
        "from deoldify.device_id import DeviceId\n",
        "#choices:  CPU, GPU0...GPU7\n",
        "device.set(device=DeviceId.GPU0)\n",
        "\n",
        "import torch\n",
        "\n",
        "if not torch.cuda.is_available():\n",
        "    print('GPU not available.')\n",
        "\n",
        "from os import path"
      ],
      "id": "0824a330-ff28-4e8a-8b79-b3212696bb94"
    },
    {
      "cell_type": "code",
      "execution_count": 3,
      "metadata": {
        "id": "f7a27145-95c9-4009-9b71-3ba0434c3008",
        "outputId": "22cb8040-57b2-4c49-f2f5-5e6b44167f12",
        "colab": {
          "base_uri": "https://localhost:8080/"
        }
      },
      "outputs": [
        {
          "output_type": "stream",
          "name": "stdout",
          "text": [
            "Requirement already satisfied: fastai==1.0.60 in c:\\anaconda3\\envs\\deoldify\\lib\\site-packages (from -r requirements-colab.txt (line 1)) (1.0.60)\n",
            "Requirement already satisfied: tensorboardX>=1.6 in c:\\anaconda3\\envs\\deoldify\\lib\\site-packages (from -r requirements-colab.txt (line 2)) (2.5.1)\n",
            "Requirement already satisfied: ffmpeg-python in c:\\anaconda3\\envs\\deoldify\\lib\\site-packages (from -r requirements-colab.txt (line 3)) (0.2.0)\n",
            "Requirement already satisfied: yt-dlp in c:\\anaconda3\\envs\\deoldify\\lib\\site-packages (from -r requirements-colab.txt (line 4)) (2023.1.6)\n",
            "Requirement already satisfied: opencv-python>=3.3.0.10 in c:\\anaconda3\\envs\\deoldify\\lib\\site-packages (from -r requirements-colab.txt (line 5)) (4.7.0.68)\n",
            "Requirement already satisfied: Pillow in c:\\anaconda3\\envs\\deoldify\\lib\\site-packages (from -r requirements-colab.txt (line 6)) (9.4.0)\n",
            "Requirement already satisfied: tornado in c:\\anaconda3\\envs\\deoldify\\lib\\site-packages (from -r requirements-colab.txt (line 7)) (6.2)\n",
            "Requirement already satisfied: imgaug==0.2.6 in c:\\anaconda3\\envs\\deoldify\\lib\\site-packages (from -r requirements-colab.txt (line 8)) (0.2.6)\n",
            "Requirement already satisfied: bottleneck in c:\\anaconda3\\envs\\deoldify\\lib\\site-packages (from fastai==1.0.60->-r requirements-colab.txt (line 1)) (1.3.6)\n",
            "Requirement already satisfied: fastprogress>=0.2.1 in c:\\anaconda3\\envs\\deoldify\\lib\\site-packages (from fastai==1.0.60->-r requirements-colab.txt (line 1)) (1.0.3)\n",
            "Requirement already satisfied: beautifulsoup4 in c:\\anaconda3\\envs\\deoldify\\lib\\site-packages (from fastai==1.0.60->-r requirements-colab.txt (line 1)) (4.11.1)\n",
            "Requirement already satisfied: matplotlib in c:\\anaconda3\\envs\\deoldify\\lib\\site-packages (from fastai==1.0.60->-r requirements-colab.txt (line 1)) (3.6.3)\n",
            "Requirement already satisfied: numexpr in c:\\anaconda3\\envs\\deoldify\\lib\\site-packages (from fastai==1.0.60->-r requirements-colab.txt (line 1)) (2.7.3)\n",
            "Requirement already satisfied: numpy>=1.15 in c:\\anaconda3\\envs\\deoldify\\lib\\site-packages (from fastai==1.0.60->-r requirements-colab.txt (line 1)) (1.24.1)\n",
            "Requirement already satisfied: nvidia-ml-py3 in c:\\anaconda3\\envs\\deoldify\\lib\\site-packages (from fastai==1.0.60->-r requirements-colab.txt (line 1)) (7.352.0)\n",
            "Requirement already satisfied: pandas in c:\\anaconda3\\envs\\deoldify\\lib\\site-packages (from fastai==1.0.60->-r requirements-colab.txt (line 1)) (1.5.3)\n",
            "Requirement already satisfied: packaging in c:\\anaconda3\\envs\\deoldify\\lib\\site-packages (from fastai==1.0.60->-r requirements-colab.txt (line 1)) (23.0)\n",
            "Requirement already satisfied: pyyaml in c:\\anaconda3\\envs\\deoldify\\lib\\site-packages (from fastai==1.0.60->-r requirements-colab.txt (line 1)) (6.0)\n",
            "Requirement already satisfied: requests in c:\\anaconda3\\envs\\deoldify\\lib\\site-packages (from fastai==1.0.60->-r requirements-colab.txt (line 1)) (2.28.2)\n",
            "Requirement already satisfied: scipy in c:\\anaconda3\\envs\\deoldify\\lib\\site-packages (from fastai==1.0.60->-r requirements-colab.txt (line 1)) (1.10.0)\n",
            "Requirement already satisfied: torch>=1.0.0 in c:\\anaconda3\\envs\\deoldify\\lib\\site-packages (from fastai==1.0.60->-r requirements-colab.txt (line 1)) (1.11.0)\n",
            "Requirement already satisfied: spacy>=2.0.18 in c:\\anaconda3\\envs\\deoldify\\lib\\site-packages (from fastai==1.0.60->-r requirements-colab.txt (line 1)) (3.4.4)\n",
            "Requirement already satisfied: torchvision in c:\\anaconda3\\envs\\deoldify\\lib\\site-packages (from fastai==1.0.60->-r requirements-colab.txt (line 1)) (0.12.0)\n",
            "Requirement already satisfied: scikit-image>=0.11.0 in c:\\anaconda3\\envs\\deoldify\\lib\\site-packages (from imgaug==0.2.6->-r requirements-colab.txt (line 8)) (0.19.3)\n",
            "Requirement already satisfied: six in c:\\anaconda3\\envs\\deoldify\\lib\\site-packages (from imgaug==0.2.6->-r requirements-colab.txt (line 8)) (1.16.0)\n",
            "Requirement already satisfied: protobuf<=3.20.1,>=3.8.0 in c:\\anaconda3\\envs\\deoldify\\lib\\site-packages (from tensorboardX>=1.6->-r requirements-colab.txt (line 2)) (3.20.1)\n",
            "Requirement already satisfied: future in c:\\anaconda3\\envs\\deoldify\\lib\\site-packages (from ffmpeg-python->-r requirements-colab.txt (line 3)) (0.18.3)\n",
            "Requirement already satisfied: brotli in c:\\anaconda3\\envs\\deoldify\\lib\\site-packages (from yt-dlp->-r requirements-colab.txt (line 4)) (1.0.9)\n",
            "Requirement already satisfied: pycryptodomex in c:\\anaconda3\\envs\\deoldify\\lib\\site-packages (from yt-dlp->-r requirements-colab.txt (line 4)) (3.16.0)\n",
            "Requirement already satisfied: mutagen in c:\\anaconda3\\envs\\deoldify\\lib\\site-packages (from yt-dlp->-r requirements-colab.txt (line 4)) (1.46.0)\n",
            "Requirement already satisfied: websockets in c:\\anaconda3\\envs\\deoldify\\lib\\site-packages (from yt-dlp->-r requirements-colab.txt (line 4)) (10.4)\n",
            "Requirement already satisfied: certifi in c:\\anaconda3\\envs\\deoldify\\lib\\site-packages (from yt-dlp->-r requirements-colab.txt (line 4)) (2022.12.7)\n",
            "Requirement already satisfied: networkx>=2.2 in c:\\anaconda3\\envs\\deoldify\\lib\\site-packages (from scikit-image>=0.11.0->imgaug==0.2.6->-r requirements-colab.txt (line 8)) (3.0)\n",
            "Requirement already satisfied: imageio>=2.4.1 in c:\\anaconda3\\envs\\deoldify\\lib\\site-packages (from scikit-image>=0.11.0->imgaug==0.2.6->-r requirements-colab.txt (line 8)) (2.24.0)\n",
            "Requirement already satisfied: tifffile>=2019.7.26 in c:\\anaconda3\\envs\\deoldify\\lib\\site-packages (from scikit-image>=0.11.0->imgaug==0.2.6->-r requirements-colab.txt (line 8)) (2022.10.10)\n",
            "Requirement already satisfied: PyWavelets>=1.1.1 in c:\\anaconda3\\envs\\deoldify\\lib\\site-packages (from scikit-image>=0.11.0->imgaug==0.2.6->-r requirements-colab.txt (line 8)) (1.4.1)\n",
            "Requirement already satisfied: srsly<3.0.0,>=2.4.3 in c:\\anaconda3\\envs\\deoldify\\lib\\site-packages (from spacy>=2.0.18->fastai==1.0.60->-r requirements-colab.txt (line 1)) (2.4.5)\n",
            "Requirement already satisfied: murmurhash<1.1.0,>=0.28.0 in c:\\anaconda3\\envs\\deoldify\\lib\\site-packages (from spacy>=2.0.18->fastai==1.0.60->-r requirements-colab.txt (line 1)) (1.0.9)\n",
            "Requirement already satisfied: spacy-loggers<2.0.0,>=1.0.0 in c:\\anaconda3\\envs\\deoldify\\lib\\site-packages (from spacy>=2.0.18->fastai==1.0.60->-r requirements-colab.txt (line 1)) (1.0.4)\n",
            "Requirement already satisfied: langcodes<4.0.0,>=3.2.0 in c:\\anaconda3\\envs\\deoldify\\lib\\site-packages (from spacy>=2.0.18->fastai==1.0.60->-r requirements-colab.txt (line 1)) (3.3.0)\n",
            "Requirement already satisfied: typer<0.8.0,>=0.3.0 in c:\\anaconda3\\envs\\deoldify\\lib\\site-packages (from spacy>=2.0.18->fastai==1.0.60->-r requirements-colab.txt (line 1)) (0.4.2)\n",
            "Requirement already satisfied: thinc<8.2.0,>=8.1.0 in c:\\anaconda3\\envs\\deoldify\\lib\\site-packages (from spacy>=2.0.18->fastai==1.0.60->-r requirements-colab.txt (line 1)) (8.1.7)\n",
            "Requirement already satisfied: wasabi<1.1.0,>=0.9.1 in c:\\anaconda3\\envs\\deoldify\\lib\\site-packages (from spacy>=2.0.18->fastai==1.0.60->-r requirements-colab.txt (line 1)) (0.10.1)\n",
            "Requirement already satisfied: preshed<3.1.0,>=3.0.2 in c:\\anaconda3\\envs\\deoldify\\lib\\site-packages (from spacy>=2.0.18->fastai==1.0.60->-r requirements-colab.txt (line 1)) (3.0.8)\n",
            "Requirement already satisfied: catalogue<2.1.0,>=2.0.6 in c:\\anaconda3\\envs\\deoldify\\lib\\site-packages (from spacy>=2.0.18->fastai==1.0.60->-r requirements-colab.txt (line 1)) (2.0.8)\n",
            "Requirement already satisfied: jinja2 in c:\\anaconda3\\envs\\deoldify\\lib\\site-packages (from spacy>=2.0.18->fastai==1.0.60->-r requirements-colab.txt (line 1)) (3.1.2)\n",
            "Requirement already satisfied: spacy-legacy<3.1.0,>=3.0.10 in c:\\anaconda3\\envs\\deoldify\\lib\\site-packages (from spacy>=2.0.18->fastai==1.0.60->-r requirements-colab.txt (line 1)) (3.0.11)\n",
            "Requirement already satisfied: cymem<2.1.0,>=2.0.2 in c:\\anaconda3\\envs\\deoldify\\lib\\site-packages (from spacy>=2.0.18->fastai==1.0.60->-r requirements-colab.txt (line 1)) (2.0.7)\n",
            "Requirement already satisfied: smart-open<7.0.0,>=5.2.1 in c:\\anaconda3\\envs\\deoldify\\lib\\site-packages (from spacy>=2.0.18->fastai==1.0.60->-r requirements-colab.txt (line 1)) (5.2.1)\n",
            "Requirement already satisfied: tqdm<5.0.0,>=4.38.0 in c:\\anaconda3\\envs\\deoldify\\lib\\site-packages (from spacy>=2.0.18->fastai==1.0.60->-r requirements-colab.txt (line 1)) (4.64.1)\n",
            "Requirement already satisfied: pathy>=0.3.5 in c:\\anaconda3\\envs\\deoldify\\lib\\site-packages (from spacy>=2.0.18->fastai==1.0.60->-r requirements-colab.txt (line 1)) (0.10.1)\n",
            "Requirement already satisfied: pydantic!=1.8,!=1.8.1,<1.11.0,>=1.7.4 in c:\\anaconda3\\envs\\deoldify\\lib\\site-packages (from spacy>=2.0.18->fastai==1.0.60->-r requirements-colab.txt (line 1)) (1.10.4)\n",
            "Requirement already satisfied: setuptools in c:\\anaconda3\\envs\\deoldify\\lib\\site-packages (from spacy>=2.0.18->fastai==1.0.60->-r requirements-colab.txt (line 1)) (66.1.0)\n",
            "Requirement already satisfied: idna<4,>=2.5 in c:\\anaconda3\\envs\\deoldify\\lib\\site-packages (from requests->fastai==1.0.60->-r requirements-colab.txt (line 1)) (3.4)\n",
            "Requirement already satisfied: urllib3<1.27,>=1.21.1 in c:\\anaconda3\\envs\\deoldify\\lib\\site-packages (from requests->fastai==1.0.60->-r requirements-colab.txt (line 1)) (1.26.14)\n",
            "Requirement already satisfied: charset-normalizer<4,>=2 in c:\\anaconda3\\envs\\deoldify\\lib\\site-packages (from requests->fastai==1.0.60->-r requirements-colab.txt (line 1)) (2.1.1)\n",
            "Requirement already satisfied: typing_extensions in c:\\anaconda3\\envs\\deoldify\\lib\\site-packages (from torch>=1.0.0->fastai==1.0.60->-r requirements-colab.txt (line 1)) (4.4.0)\n",
            "Requirement already satisfied: soupsieve>1.2 in c:\\anaconda3\\envs\\deoldify\\lib\\site-packages (from beautifulsoup4->fastai==1.0.60->-r requirements-colab.txt (line 1)) (2.3.2.post1)\n",
            "Requirement already satisfied: kiwisolver>=1.0.1 in c:\\anaconda3\\envs\\deoldify\\lib\\site-packages (from matplotlib->fastai==1.0.60->-r requirements-colab.txt (line 1)) (1.4.4)\n",
            "Requirement already satisfied: pyparsing>=2.2.1 in c:\\anaconda3\\envs\\deoldify\\lib\\site-packages (from matplotlib->fastai==1.0.60->-r requirements-colab.txt (line 1)) (3.0.9)\n",
            "Requirement already satisfied: fonttools>=4.22.0 in c:\\anaconda3\\envs\\deoldify\\lib\\site-packages (from matplotlib->fastai==1.0.60->-r requirements-colab.txt (line 1)) (4.38.0)\n",
            "Requirement already satisfied: python-dateutil>=2.7 in c:\\anaconda3\\envs\\deoldify\\lib\\site-packages (from matplotlib->fastai==1.0.60->-r requirements-colab.txt (line 1)) (2.8.2)\n",
            "Requirement already satisfied: cycler>=0.10 in c:\\anaconda3\\envs\\deoldify\\lib\\site-packages (from matplotlib->fastai==1.0.60->-r requirements-colab.txt (line 1)) (0.11.0)\n",
            "Requirement already satisfied: contourpy>=1.0.1 in c:\\anaconda3\\envs\\deoldify\\lib\\site-packages (from matplotlib->fastai==1.0.60->-r requirements-colab.txt (line 1)) (1.0.7)\n",
            "Requirement already satisfied: pytz>=2020.1 in c:\\anaconda3\\envs\\deoldify\\lib\\site-packages (from pandas->fastai==1.0.60->-r requirements-colab.txt (line 1)) (2022.7.1)\n",
            "Requirement already satisfied: confection<1.0.0,>=0.0.1 in c:\\anaconda3\\envs\\deoldify\\lib\\site-packages (from thinc<8.2.0,>=8.1.0->spacy>=2.0.18->fastai==1.0.60->-r requirements-colab.txt (line 1)) (0.0.4)\n",
            "Requirement already satisfied: blis<0.8.0,>=0.7.8 in c:\\anaconda3\\envs\\deoldify\\lib\\site-packages (from thinc<8.2.0,>=8.1.0->spacy>=2.0.18->fastai==1.0.60->-r requirements-colab.txt (line 1)) (0.7.9)\n",
            "Requirement already satisfied: colorama in c:\\anaconda3\\envs\\deoldify\\lib\\site-packages (from tqdm<5.0.0,>=4.38.0->spacy>=2.0.18->fastai==1.0.60->-r requirements-colab.txt (line 1)) (0.4.6)\n",
            "Requirement already satisfied: click<9.0.0,>=7.1.1 in c:\\anaconda3\\envs\\deoldify\\lib\\site-packages (from typer<0.8.0,>=0.3.0->spacy>=2.0.18->fastai==1.0.60->-r requirements-colab.txt (line 1)) (8.1.3)\n",
            "Requirement already satisfied: MarkupSafe>=2.0 in c:\\anaconda3\\envs\\deoldify\\lib\\site-packages (from jinja2->spacy>=2.0.18->fastai==1.0.60->-r requirements-colab.txt (line 1)) (2.1.2)\n"
          ]
        }
      ],
      "source": [
        "!pip install -r requirements-colab.txt"
      ],
      "id": "f7a27145-95c9-4009-9b71-3ba0434c3008"
    },
    {
      "cell_type": "code",
      "execution_count": 4,
      "metadata": {
        "id": "3c34ca87-77f5-49bb-9b60-4a344cb2cd67"
      },
      "outputs": [],
      "source": [
        "import os\n",
        "os.environ['NUMEXPR_MAX_THREADS'] = '16'\n",
        "os.environ['NUMEXPR_NUM_THREADS'] = '8'\n",
        "import numexpr as ne"
      ],
      "id": "3c34ca87-77f5-49bb-9b60-4a344cb2cd67"
    },
    {
      "cell_type": "code",
      "execution_count": 5,
      "metadata": {
        "id": "bd399f13-ee6d-42a7-90a8-8105a3b84f2b"
      },
      "outputs": [],
      "source": [
        "import fastai\n",
        "from deoldify.visualize import *\n",
        "from pathlib import Path\n",
        "torch.backends.cudnn.benchmark=True\n",
        "import warnings\n",
        "warnings.filterwarnings(\"ignore\", category=UserWarning, message=\".*?Your .*? set is empty.*?\")"
      ],
      "id": "bd399f13-ee6d-42a7-90a8-8105a3b84f2b"
    },
    {
      "cell_type": "code",
      "execution_count": 6,
      "metadata": {
        "id": "fd6e807b-e249-43c8-8dac-9f426865b574"
      },
      "outputs": [],
      "source": [
        "colorizer = get_video_colorizer()"
      ],
      "id": "fd6e807b-e249-43c8-8dac-9f426865b574"
    },
    {
      "cell_type": "code",
      "execution_count": null,
      "metadata": {
        "id": "7a0a01a2-2c9c-4a79-908f-dac3cc85446c",
        "outputId": "95467c43-5520-4de0-ebdb-58678d497990",
        "colab": {
          "base_uri": "https://localhost:8080/",
          "height": 228
        }
      },
      "outputs": [
        {
          "output_type": "stream",
          "name": "stdout",
          "text": [
            "[youtube] Extracting URL: https://youtu.be/_-U5aGOxAFA\n",
            "[youtube] _-U5aGOxAFA: Downloading webpage\n",
            "[youtube] _-U5aGOxAFA: Downloading android player API JSON\n",
            "[info] _-U5aGOxAFA: Downloading 1 format(s): 137+140\n",
            "[download] Destination: video\\source\\video.f137.mp4\n",
            "[download] 100% of    1.44GiB in 00:00:57 at 25.65MiB/s  \n",
            "[download] Destination: video\\source\\video.f140.m4a\n",
            "[download] 100% of   56.88MiB in 00:00:03 at 17.03MiB/s  \n",
            "[Merger] Merging formats into \"video\\source\\video.mp4\"\n",
            "Deleting original file video\\source\\video.f137.mp4 (pass -k to keep)\n",
            "Deleting original file video\\source\\video.f140.m4a (pass -k to keep)\n"
          ]
        },
        {
          "output_type": "display_data",
          "data": {
            "text/plain": [
              "<IPython.core.display.HTML object>"
            ],
            "text/html": [
              "\n",
              "<style>\n",
              "    /* Turns off some styling */\n",
              "    progress {\n",
              "        /* gets rid of default border in Firefox and Opera. */\n",
              "        border: none;\n",
              "        /* Needs to be in here for Safari polyfill so background images work as expected. */\n",
              "        background-size: auto;\n",
              "    }\n",
              "    progress:not([value]), progress:not([value])::-webkit-progress-bar {\n",
              "        background: repeating-linear-gradient(45deg, #7e7e7e, #7e7e7e 10px, #5c5c5c 10px, #5c5c5c 20px);\n",
              "    }\n",
              "    .progress-bar-interrupted, .progress-bar-interrupted::-webkit-progress-bar {\n",
              "        background: #F44336;\n",
              "    }\n",
              "</style>\n"
            ]
          },
          "metadata": {}
        },
        {
          "output_type": "display_data",
          "data": {
            "text/plain": [
              "<IPython.core.display.HTML object>"
            ],
            "text/html": [
              "\n",
              "    <div>\n",
              "      <progress value='8490' class='' max='92124' style='width:300px; height:20px; vertical-align: middle;'></progress>\n",
              "      9.22% [8490/92124 22:18&lt;3:39:43]\n",
              "    </div>\n",
              "    "
            ]
          },
          "metadata": {}
        }
      ],
      "source": [
        "source_url = 'https://youtu.be/_-U5aGOxAFA' #@param {type:\"string\"}\n",
        "render_factor = 18  #@param {type: \"slider\", min: 5, max: 40}\n",
        "watermarked = False #@param {type:\"boolean\"}\n",
        "\n",
        "if source_url is not None and source_url !='':\n",
        "    video_path = colorizer.colorize_from_url(source_url, 'video.mp4', render_factor, watermarked=watermarked)\n",
        "    show_video_in_notebook(video_path)\n",
        "else:\n",
        "    print('Provide a video url and try again.')"
      ],
      "id": "7a0a01a2-2c9c-4a79-908f-dac3cc85446c"
    },
    {
      "cell_type": "code",
      "execution_count": null,
      "metadata": {
        "id": "365b0797-e41b-499c-9034-e3dc9a33fa48"
      },
      "outputs": [],
      "source": [
        "import os\n",
        "os.system(\"Powercfg -H OFF\")\n",
        "os.system(\"rundll32.exe powrprof.dll,SetSuspendState 0,1,0\")"
      ],
      "id": "365b0797-e41b-499c-9034-e3dc9a33fa48"
    }
  ],
  "metadata": {
    "colab": {
      "provenance": [],
      "include_colab_link": true
    },
    "kernelspec": {
      "display_name": "Python 3 (ipykernel)",
      "language": "python",
      "name": "python3"
    },
    "language_info": {
      "codemirror_mode": {
        "name": "ipython",
        "version": 3
      },
      "file_extension": ".py",
      "mimetype": "text/x-python",
      "name": "python",
      "nbconvert_exporter": "python",
      "pygments_lexer": "ipython3",
      "version": "3.10.8"
    },
    "accelerator": "GPU",
    "gpuClass": "standard"
  },
  "nbformat": 4,
  "nbformat_minor": 5
}