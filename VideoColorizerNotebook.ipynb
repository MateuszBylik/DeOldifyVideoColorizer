{
  "cells": [
    {
      "cell_type": "markdown",
      "metadata": {
        "id": "view-in-github",
        "colab_type": "text"
      },
      "source": [
        "<a href=\"https://colab.research.google.com/github/MateuszBylik/DeOldifyVideoColorizer/blob/main/VideoColorizerNotebook.ipynb\" target=\"_parent\"><img src=\"https://colab.research.google.com/assets/colab-badge.svg\" alt=\"Open In Colab\"/></a>"
      ]
    },
    {
      "cell_type": "markdown",
      "source": [
        "First, open anaconda prompt as administrator. Then type:\\\n",
        "*conda activate deoldify*\\\n",
        "After that type:\\\n",
        "*jupyter notebook --NotebookApp.allow_origin='https://colab.research.google.com' --port=8888 --NotebookApp.port_retries=0*\\\n",
        "Then copy web adress starting with *http://localhost:8888/?token=* and paste it into google colab."
      ],
      "metadata": {
        "id": "aDmRX1naFrUE"
      },
      "id": "aDmRX1naFrUE"
    },
    {
      "cell_type": "code",
      "execution_count": null,
      "metadata": {
        "id": "Cb_ZhKqL7kew"
      },
      "outputs": [],
      "source": [
        "cd C:\\Users\\aide\\DeOldify-master"
      ],
      "id": "Cb_ZhKqL7kew"
    },
    {
      "cell_type": "code",
      "execution_count": null,
      "metadata": {
        "id": "0824a330-ff28-4e8a-8b79-b3212696bb94"
      },
      "outputs": [],
      "source": [
        "#NOTE:  This must be the first call in order to work properly!\n",
        "from deoldify import device\n",
        "from deoldify.device_id import DeviceId\n",
        "#choices:  CPU, GPU0...GPU7\n",
        "device.set(device=DeviceId.GPU0)\n",
        "\n",
        "import torch\n",
        "\n",
        "if not torch.cuda.is_available():\n",
        "    print('GPU not available.')\n",
        "\n",
        "from os import path"
      ],
      "id": "0824a330-ff28-4e8a-8b79-b3212696bb94"
    },
    {
      "cell_type": "code",
      "execution_count": null,
      "metadata": {
        "id": "f7a27145-95c9-4009-9b71-3ba0434c3008"
      },
      "outputs": [],
      "source": [
        "!pip install -r requirements-colab.txt"
      ],
      "id": "f7a27145-95c9-4009-9b71-3ba0434c3008"
    },
    {
      "cell_type": "code",
      "execution_count": null,
      "metadata": {
        "id": "3c34ca87-77f5-49bb-9b60-4a344cb2cd67"
      },
      "outputs": [],
      "source": [
        "import os\n",
        "os.environ['NUMEXPR_MAX_THREADS'] = '16'\n",
        "os.environ['NUMEXPR_NUM_THREADS'] = '8'\n",
        "import numexpr as ne"
      ],
      "id": "3c34ca87-77f5-49bb-9b60-4a344cb2cd67"
    },
    {
      "cell_type": "code",
      "execution_count": null,
      "metadata": {
        "id": "bd399f13-ee6d-42a7-90a8-8105a3b84f2b"
      },
      "outputs": [],
      "source": [
        "import fastai\n",
        "from deoldify.visualize import *\n",
        "from pathlib import Path\n",
        "torch.backends.cudnn.benchmark=True\n",
        "import warnings\n",
        "warnings.filterwarnings(\"ignore\", category=UserWarning, message=\".*?Your .*? set is empty.*?\")"
      ],
      "id": "bd399f13-ee6d-42a7-90a8-8105a3b84f2b"
    },
    {
      "cell_type": "code",
      "execution_count": null,
      "metadata": {
        "id": "fd6e807b-e249-43c8-8dac-9f426865b574"
      },
      "outputs": [],
      "source": [
        "colorizer = get_video_colorizer()"
      ],
      "id": "fd6e807b-e249-43c8-8dac-9f426865b574"
    },
    {
      "cell_type": "code",
      "execution_count": null,
      "metadata": {
        "id": "7a0a01a2-2c9c-4a79-908f-dac3cc85446c"
      },
      "outputs": [],
      "source": [
        "source_url = '' #@param {type:\"string\"}\n",
        "render_factor = 18  #@param {type: \"slider\", min: 5, max: 40}\n",
        "watermarked = False #@param {type:\"boolean\"}\n",
        "\n",
        "if source_url is not None and source_url !='':\n",
        "    video_path = colorizer.colorize_from_url(source_url, 'video.mp4', render_factor, watermarked=watermarked)\n",
        "else:\n",
        "    print('Provide a video url and try again.')"
      ],
      "id": "7a0a01a2-2c9c-4a79-908f-dac3cc85446c"
    },
    {
      "cell_type": "code",
      "execution_count": null,
      "metadata": {
        "id": "365b0797-e41b-499c-9034-e3dc9a33fa48"
      },
      "outputs": [],
      "source": [
        "import os\n",
        "os.system(\"Powercfg -H OFF\")\n",
        "os.system(\"rundll32.exe powrprof.dll,SetSuspendState 0,1,0\")"
      ],
      "id": "365b0797-e41b-499c-9034-e3dc9a33fa48"
    }
  ],
  "metadata": {
    "colab": {
      "provenance": [],
      "include_colab_link": true
    },
    "kernelspec": {
      "display_name": "Python 3 (ipykernel)",
      "language": "python",
      "name": "python3"
    },
    "language_info": {
      "codemirror_mode": {
        "name": "ipython",
        "version": 3
      },
      "file_extension": ".py",
      "mimetype": "text/x-python",
      "name": "python",
      "nbconvert_exporter": "python",
      "pygments_lexer": "ipython3",
      "version": "3.10.8"
    },
    "accelerator": "GPU",
    "gpuClass": "standard"
  },
  "nbformat": 4,
  "nbformat_minor": 5
}